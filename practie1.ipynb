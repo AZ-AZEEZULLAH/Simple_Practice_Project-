{
  "nbformat": 4,
  "nbformat_minor": 0,
  "metadata": {
    "colab": {
      "provenance": [],
      "authorship_tag": "ABX9TyN26nBXxJwz7ymeKUMLPSyC",
      "include_colab_link": true
    },
    "kernelspec": {
      "name": "python3",
      "display_name": "Python 3"
    },
    "language_info": {
      "name": "python"
    }
  },
  "cells": [
    {
      "cell_type": "markdown",
      "metadata": {
        "id": "view-in-github",
        "colab_type": "text"
      },
      "source": [
        "<a href=\"https://colab.research.google.com/github/AZ-AZEEZULLAH/simple-calculator-in-python/blob/main/practie1.ipynb\" target=\"_parent\"><img src=\"https://colab.research.google.com/assets/colab-badge.svg\" alt=\"Open In Colab\"/></a>"
      ]
    },
    {
      "cell_type": "markdown",
      "source": [
        "  # Simple Calculator"
      ],
      "metadata": {
        "id": "ag9zBUYfGIpy"
      }
    },
    {
      "cell_type": "code",
      "source": [
        "\n",
        "# Simple Calculator\n",
        "\n",
        "num1 = int(input(\"Enter the first number:\"))\n",
        "num2 = int(input(\"Enter the second number\"))\n",
        "operator = input(\"Enter the operator(+ , - , * , /)\")\n",
        " # Addition\n",
        "if operator == \"+\" :\n",
        "  result = num1 + num2\n",
        "  print(f\"{num1}+ {num2} = {result}\")\n",
        "\n",
        "# Subraction\n",
        "\n",
        "elif operator == \"-\":\n",
        "  result = num1 - num2\n",
        "  print(f\"{num1} - {num2} = {result}\")\n",
        "\n",
        "\n",
        "# Multiply\n",
        "\n",
        "elif operator == \"*\":\n",
        "  result = num1 * num2\n",
        "  print(f\"{num1} * {num2} = {result}\")\n",
        "\n",
        "# Divide\n",
        "\n",
        "elif operator == \"/\":\n",
        "  if num2 == 0:\n",
        "    print(\"Zero can not divide \")\n",
        "  else:\n",
        "    result = num1 / num2\n",
        "    print(f\"{num1} / {num2} = {result}\")\n",
        "\n",
        "\n",
        "\n",
        "\n"
      ],
      "metadata": {
        "id": "dM8LxdaTSWW0"
      },
      "execution_count": null,
      "outputs": []
    },
    {
      "cell_type": "markdown",
      "source": [],
      "metadata": {
        "id": "duVgc_I2SdpS"
      }
    }
  ]
}