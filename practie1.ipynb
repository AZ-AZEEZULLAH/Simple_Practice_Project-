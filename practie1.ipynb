{
  "nbformat": 4,
  "nbformat_minor": 0,
  "metadata": {
    "colab": {
      "provenance": [],
      "authorship_tag": "ABX9TyPlLEPNv35oKwaueiD2hn/d",
      "include_colab_link": true
    },
    "kernelspec": {
      "name": "python3",
      "display_name": "Python 3"
    },
    "language_info": {
      "name": "python"
    }
  },
  "cells": [
    {
      "cell_type": "markdown",
      "metadata": {
        "id": "view-in-github",
        "colab_type": "text"
      },
      "source": [
        "<a href=\"https://colab.research.google.com/github/AZ-AZEEZULLAH/Simple_Practice_Project-/blob/main/practie1.ipynb\" target=\"_parent\"><img src=\"https://colab.research.google.com/assets/colab-badge.svg\" alt=\"Open In Colab\"/></a>"
      ]
    },
    {
      "cell_type": "markdown",
      "source": [
        "  # Simple Calculator"
      ],
      "metadata": {
        "id": "ag9zBUYfGIpy"
      }
    },
    {
      "cell_type": "code",
      "source": [
        "\n",
        "# Simple Calculator\n",
        "\n",
        "num1 = int(input(\"Enter the first number:\"))\n",
        "num2 = int(input(\"Enter the second number\"))\n",
        "operator = input(\"Enter the operator(+ , - , * , /)\")\n",
        " # Addition\n",
        "if operator == \"+\" :\n",
        "  result = num1 + num2\n",
        "  print(f\"{num1}+ {num2} = {result}\")\n",
        "\n",
        "# Subraction\n",
        "\n",
        "elif operator == \"-\":\n",
        "  result = num1 - num2\n",
        "  print(f\"{num1} - {num2} = {result}\")\n",
        "\n",
        "\n",
        "# Multiply\n",
        "\n",
        "elif operator == \"*\":\n",
        "  result = num1 * num2\n",
        "  print(f\"{num1} * {num2} = {result}\")\n",
        "\n",
        "# Divide\n",
        "\n",
        "elif operator == \"/\":\n",
        "  if num2 == 0:\n",
        "    print(\"Zero can not divide \")\n",
        "  else:\n",
        "    result = num1 / num2\n",
        "    print(f\"{num1} / {num2} = {result}\")\n",
        "\n",
        "\n",
        "\n",
        "\n"
      ],
      "metadata": {
        "id": "dM8LxdaTSWW0"
      },
      "execution_count": null,
      "outputs": []
    },
    {
      "cell_type": "markdown",
      "source": [],
      "metadata": {
        "id": "duVgc_I2SdpS"
      }
    },
    {
      "cell_type": "markdown",
      "source": [
        "# Marksheet"
      ],
      "metadata": {
        "id": "TkYcb2eVNhLq"
      }
    },
    {
      "cell_type": "code",
      "source": [
        "Marks = int(input(\"Enter your Marks\")) # veriable\n",
        "# Condition\n",
        "if Marks >= 90and Marks <=100:\n",
        "  print(\"A+ Grade:\")\n",
        "elif Marks >= 80 and Marks <= 90:\n",
        "  print(\"A Grade:\")\n",
        "elif Marks >=70 and Marks <= 80:\n",
        "  print(\"B Grade:\")\n",
        "elif Marks >= 60 and Marks >= 70:\n",
        "  print(\"C Grade:\")\n",
        "elif Marks >= 50 and Marks >= 60:\n",
        "  print(\"D Grade :\")\n",
        "else:\n",
        "  print(\"Fail\")\n",
        "\n"
      ],
      "metadata": {
        "colab": {
          "base_uri": "https://localhost:8080/"
        },
        "id": "T_kC5JYpNkxj",
        "outputId": "7123ef1f-ec24-48d1-ddf3-9382b70d056f"
      },
      "execution_count": 2,
      "outputs": [
        {
          "output_type": "stream",
          "name": "stderr",
          "text": [
            "<>:3: SyntaxWarning: invalid decimal literal\n",
            "<>:3: SyntaxWarning: invalid decimal literal\n",
            "<ipython-input-2-490722ddb4a5>:3: SyntaxWarning: invalid decimal literal\n",
            "  if Marks >= 90and Marks <=100:\n"
          ]
        },
        {
          "output_type": "stream",
          "name": "stdout",
          "text": [
            "Enter your Marks40\n",
            "Fail\n"
          ]
        }
      ]
    },
    {
      "cell_type": "code",
      "source": [
        "\n",
        "\n",
        "# Function\n",
        "def Marksheet(Name,English,Math,Urdu,Islamiat,Science):\n",
        "  Total = English + Math + Urdu + Islamiat + Science\n",
        "  Percentage = Total / 500 * 100\n",
        "  print(f\"Name:{Name}\\n Total Marks:{Total}\\n Percentage: {Percentage}\")\n",
        "  if Percentage >=90 and Percentage <= 100:\n",
        "    print(\"Grade: A+\")\n",
        "    print(\"Congratulation\")\n",
        "    print(\"Excellent\")\n",
        "    print(\"1st Postion\")\n",
        "    print(\"Pass\")\n",
        "  elif Percentage >= 80 and Percentage <= 90:\n",
        "    print(\"Grade: A\")\n",
        "    print(\"Congratulation\")\n",
        "    print(\"2ndPostion\")\n",
        "    print(\"Good\")\n",
        "    print(\"Pass\")\n",
        "  elif Percentage >= 70 and Percentage <= 80:\n",
        "    print(\"Grade B +:\")\n",
        "    print(\"Congratulation\")\n",
        "    print(\"3rd Postion\")\n",
        "    print(\"Good\")\n",
        "    print(\"Pass\")\n",
        "  elif Percentage >=60 and Percentage <= 70:\n",
        "    print(\"Grade B:\")\n",
        "    print(\"Congratulation\")\n",
        "    print(\"Pass\")\n",
        "  elif Percentage >= 50 and Percentage <= 60 :\n",
        "    print(\"Grade C:\")\n",
        "    print(\"Congratulation\")\n",
        "    print(\"Pass\")\n",
        "  elif Percentage >= 40 and Percentage <= 50:\n",
        "    print(\"Grade D :\")\n",
        "    print(\"Pass\")\n",
        "  else:\n",
        "    print(\"Grade E:\")\n",
        "    print(\"Fail\")\n",
        "\n",
        "# Call the function with separate arguments\n",
        "Marksheet(\"Ahmed\",40,50,60,70,80)\n"
      ],
      "metadata": {
        "colab": {
          "base_uri": "https://localhost:8080/"
        },
        "id": "cp3C1C7SUG2g",
        "outputId": "b5688aa1-67a9-48ac-beed-5c0225b54fef"
      },
      "execution_count": 8,
      "outputs": [
        {
          "output_type": "stream",
          "name": "stdout",
          "text": [
            "Name:Ahmed\n",
            " Total Marks:300\n",
            " Percentage: 60.0\n",
            "Grade B:\n",
            "Congratulation\n",
            "Pass\n"
          ]
        }
      ]
    }
  ]
}