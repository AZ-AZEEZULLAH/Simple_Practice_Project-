{
  "nbformat": 4,
  "nbformat_minor": 0,
  "metadata": {
    "colab": {
      "provenance": [],
      "authorship_tag": "ABX9TyPk+aA6nwFkKRq1wKV1I2g0",
      "include_colab_link": true
    },
    "kernelspec": {
      "name": "python3",
      "display_name": "Python 3"
    },
    "language_info": {
      "name": "python"
    }
  },
  "cells": [
    {
      "cell_type": "markdown",
      "metadata": {
        "id": "view-in-github",
        "colab_type": "text"
      },
      "source": [
        "<a href=\"https://colab.research.google.com/github/AZ-AZEEZULLAH/Simple_Practice_Project-/blob/main/practie1.ipynb\" target=\"_parent\"><img src=\"https://colab.research.google.com/assets/colab-badge.svg\" alt=\"Open In Colab\"/></a>"
      ]
    },
    {
      "cell_type": "markdown",
      "source": [
        "  # Simple Calculator"
      ],
      "metadata": {
        "id": "ag9zBUYfGIpy"
      }
    },
    {
      "cell_type": "code",
      "source": [
        "\n",
        "# Simple Calculator\n",
        "\n",
        "num1 = int(input(\"Enter the first number:\"))\n",
        "num2 = int(input(\"Enter the second number\"))\n",
        "operator = input(\"Enter the operator(+ , - , * , /)\")\n",
        " # Addition\n",
        "if operator == \"+\" :\n",
        "  result = num1 + num2\n",
        "  print(f\"{num1}+ {num2} = {result}\")\n",
        "\n",
        "# Subraction\n",
        "\n",
        "elif operator == \"-\":\n",
        "  result = num1 - num2\n",
        "  print(f\"{num1} - {num2} = {result}\")\n",
        "\n",
        "\n",
        "# Multiply\n",
        "\n",
        "elif operator == \"*\":\n",
        "  result = num1 * num2\n",
        "  print(f\"{num1} * {num2} = {result}\")\n",
        "\n",
        "# Divide\n",
        "\n",
        "elif operator == \"/\":\n",
        "  if num2 == 0:\n",
        "    print(\"Zero can not divide \")\n",
        "  else:\n",
        "    result = num1 / num2\n",
        "    print(f\"{num1} / {num2} = {result}\")\n",
        "\n",
        "\n",
        "\n",
        "\n"
      ],
      "metadata": {
        "id": "dM8LxdaTSWW0"
      },
      "execution_count": null,
      "outputs": []
    },
    {
      "cell_type": "markdown",
      "source": [],
      "metadata": {
        "id": "duVgc_I2SdpS"
      }
    },
    {
      "cell_type": "markdown",
      "source": [
        "# Marksheet"
      ],
      "metadata": {
        "id": "TkYcb2eVNhLq"
      }
    },
    {
      "cell_type": "code",
      "source": [
        "Marks = int(input(\"Enter your Marks\")) # veriable\n",
        "# Condition\n",
        "if Marks >= 90and Marks <=100:\n",
        "  print(\"A+ Grade:\")\n",
        "elif Marks >= 80 and Marks <= 90:\n",
        "  print(\"A Grade:\")\n",
        "elif Marks >=70 and Marks <= 80:\n",
        "  print(\"B Grade:\")\n",
        "elif Marks >= 60 and Marks >= 70:\n",
        "  print(\"C Grade:\")\n",
        "elif Marks >= 50 and Marks >= 60:\n",
        "  print(\"D Grade :\")\n",
        "else:\n",
        "  print(\"Fail\")\n",
        "\n"
      ],
      "metadata": {
        "colab": {
          "base_uri": "https://localhost:8080/"
        },
        "id": "T_kC5JYpNkxj",
        "outputId": "7123ef1f-ec24-48d1-ddf3-9382b70d056f"
      },
      "execution_count": null,
      "outputs": [
        {
          "output_type": "stream",
          "name": "stderr",
          "text": [
            "<>:3: SyntaxWarning: invalid decimal literal\n",
            "<>:3: SyntaxWarning: invalid decimal literal\n",
            "<ipython-input-2-490722ddb4a5>:3: SyntaxWarning: invalid decimal literal\n",
            "  if Marks >= 90and Marks <=100:\n"
          ]
        },
        {
          "output_type": "stream",
          "name": "stdout",
          "text": [
            "Enter your Marks40\n",
            "Fail\n"
          ]
        }
      ]
    },
    {
      "cell_type": "code",
      "source": [
        "\n",
        "\n",
        "# Function\n",
        "def Marksheet(Name,English,Math,Urdu,Islamiat,Science):\n",
        "  Total = English + Math + Urdu + Islamiat + Science\n",
        "  Percentage = Total / 500 * 100\n",
        "  print(f\"Name:{Name}\\n Total Marks:{Total}\\n Percentage: {Percentage}\")\n",
        "  if Percentage >=90 and Percentage <= 100:\n",
        "    print(\"Grade: A+\")\n",
        "    print(\"Congratulation\")\n",
        "    print(\"Excellent\")\n",
        "    print(\"1st Postion\")\n",
        "    print(\"Pass\")\n",
        "  elif Percentage >= 80 and Percentage <= 90:\n",
        "    print(\"Grade: A\")\n",
        "    print(\"Congratulation\")\n",
        "    print(\"2ndPostion\")\n",
        "    print(\"Good\")\n",
        "    print(\"Pass\")\n",
        "  elif Percentage >= 70 and Percentage <= 80:\n",
        "    print(\"Grade B +:\")\n",
        "    print(\"Congratulation\")\n",
        "    print(\"3rd Postion\")\n",
        "    print(\"Good\")\n",
        "    print(\"Pass\")\n",
        "  elif Percentage >=60 and Percentage <= 70:\n",
        "    print(\"Grade B:\")\n",
        "    print(\"Congratulation\")\n",
        "    print(\"Pass\")\n",
        "  elif Percentage >= 50 and Percentage <= 60 :\n",
        "    print(\"Grade C:\")\n",
        "    print(\"Congratulation\")\n",
        "    print(\"Pass\")\n",
        "  elif Percentage >= 40 and Percentage <= 50:\n",
        "    print(\"Grade D :\")\n",
        "    print(\"Pass\")\n",
        "  else:\n",
        "    print(\"Grade E:\")\n",
        "    print(\"Fail\")\n",
        "\n",
        "# Call the function with separate arguments\n",
        "Marksheet(\"Ahmed\",40,50,60,70,80)\n"
      ],
      "metadata": {
        "colab": {
          "base_uri": "https://localhost:8080/"
        },
        "id": "cp3C1C7SUG2g",
        "outputId": "b5688aa1-67a9-48ac-beed-5c0225b54fef"
      },
      "execution_count": null,
      "outputs": [
        {
          "output_type": "stream",
          "name": "stdout",
          "text": [
            "Name:Ahmed\n",
            " Total Marks:300\n",
            " Percentage: 60.0\n",
            "Grade B:\n",
            "Congratulation\n",
            "Pass\n"
          ]
        }
      ]
    },
    {
      "cell_type": "markdown",
      "source": [
        "# Students Attendance"
      ],
      "metadata": {
        "id": "2VAxbDrMPcJx"
      }
    },
    {
      "cell_type": "code",
      "source": [
        "import os\n",
        "import json\n",
        "from datetime import datetime\n",
        "\n",
        "class Attendance:\n",
        "    def __init__(self):\n",
        "        self.students = {}\n",
        "        self.attendance_records = {}\n",
        "        self.students_file = \"students.json\"\n",
        "        self.attendance_file = \"attendance.json\"\n",
        "        self.load_data()\n",
        "\n",
        "    def load_data(self):\n",
        "        try:\n",
        "            # Load student data\n",
        "            if os.path.exists(self.students_file):\n",
        "                with open(self.students_file, \"r\") as f:\n",
        "                    content = f.read()\n",
        "                    self.students = json.loads(content) if content.strip() else {}\n",
        "\n",
        "            # Load attendance data\n",
        "            if os.path.exists(self.attendance_file):\n",
        "                with open(self.attendance_file, \"r\") as f:\n",
        "                    content = f.read()\n",
        "                    self.attendance_records = json.loads(content) if content.strip() else {}\n",
        "            else:\n",
        "                self.attendance_records = {}\n",
        "\n",
        "        except json.JSONDecodeError:\n",
        "            print(\"Error: Data files are corrupted. Initializing with empty data.\")\n",
        "            self.students = {}\n",
        "            self.attendance_records = {}\n",
        "            self.save_data()\n",
        "\n",
        "    def save_data(self):\n",
        "        try:\n",
        "            with open(self.students_file, \"w\") as f:\n",
        "                json.dump(self.students, f, indent=4)\n",
        "\n",
        "            with open(self.attendance_file, \"w\") as f:\n",
        "                json.dump(self.attendance_records, f, indent=4)\n",
        "        except Exception as e:\n",
        "            print(f\"Error Saving Data: {e}\")\n",
        "\n",
        "    def add_student(self, Student_Id, Name):\n",
        "        if Student_Id in self.students:\n",
        "            return False, \"Student ID Already Exists\"\n",
        "\n",
        "        self.students[Student_Id] = Name\n",
        "        self.save_data()\n",
        "        return True, \"Student Added Successfully\"\n",
        "\n",
        "    def mark_attendance(self, Student_Id):\n",
        "        if Student_Id not in self.students:\n",
        "            return False, \"Student Not Found\"\n",
        "\n",
        "        date = datetime.now().strftime(\"%d-%m-%Y\")\n",
        "        if date not in self.attendance_records:\n",
        "            self.attendance_records[date] = {}\n",
        "\n",
        "        self.attendance_records[date][Student_Id] = True\n",
        "        self.save_data()\n",
        "        return True, f\"Attendance Marked for {self.students[Student_Id]}\"\n",
        "\n",
        "    def view_attendance(self, date=None):\n",
        "        if date is None:\n",
        "            date = datetime.now().strftime(\"%d-%m-%Y\")\n",
        "\n",
        "        if date not in self.attendance_records:\n",
        "            return \"No Attendance Record Found for this date.\"\n",
        "\n",
        "        result = f\"\\nAttendance for {date}:\\n\"\n",
        "        result += \"_\" * 50 + \"\\n\"\n",
        "        result += f\"{'Student_ID':<15} {'Name':<30} {'Status':<10}\\n\"\n",
        "        result += \"_\" * 50 + \"\\n\"\n",
        "\n",
        "        for Student_Id in self.students:\n",
        "            present = self.attendance_records[date].get(Student_Id, False)\n",
        "            status = \"Present\" if present else \"Absent\"\n",
        "            result += f\"{Student_Id:<15} {self.students[Student_Id]:<30} {status:<10}\\n\"\n",
        "\n",
        "        return result\n",
        "\n",
        "def main():\n",
        "    system = Attendance()\n",
        "\n",
        "    while True:\n",
        "        print(\"\\n=== Student Attendance ===\")\n",
        "        print(\"1: Add New Student.\")\n",
        "        print(\"2: Mark Attendance.\")\n",
        "        print(\"3: View Attendance\")\n",
        "        print(\"4: Exit\")\n",
        "\n",
        "        try:\n",
        "            choice = input(\"\\nEnter Your Choice (1-4): \").strip()\n",
        "\n",
        "            if choice == \"1\":\n",
        "                Student_Id = input(\"Enter Student ID: \").strip()\n",
        "                name = input(\"Enter Student Name: \").strip()\n",
        "                if not Student_Id or not name:\n",
        "                    print(\"Error: Student ID and Name Cannot be Empty!\")\n",
        "                    continue\n",
        "\n",
        "                success, message = system.add_student(Student_Id, name)\n",
        "                print(message)\n",
        "\n",
        "            elif choice == \"2\":\n",
        "                Student_Id = input(\"Enter Student ID: \").strip()\n",
        "                if not Student_Id:\n",
        "                    print(\"Error: Student ID Cannot be Empty.\")\n",
        "                    continue\n",
        "\n",
        "                success, message = system.mark_attendance(Student_Id)\n",
        "                print(message)\n",
        "\n",
        "            elif choice == \"3\":\n",
        "                date = input(\"Enter date (DD-MM-YYYY) or press Enter for Today: \").strip()\n",
        "                if date:\n",
        "                    try:\n",
        "                        datetime.strptime(date, \"%d-%m-%Y\")\n",
        "                    except ValueError:\n",
        "                        print(\"Error: Invalid date format! Please use DD-MM-YYYY\")\n",
        "                        continue\n",
        "\n",
        "                print(system.view_attendance(date if date else None))\n",
        "\n",
        "            elif choice == \"4\":\n",
        "                print(\"Thank you for using Attendance!\")\n",
        "                break\n",
        "\n",
        "            else:\n",
        "                print(\"Invalid Choice! Please Try Again.\")\n",
        "\n",
        "        except Exception as e:\n",
        "            print(f\"An Error Occurred: {e}\")\n",
        "            print(\"Please Try Again\")\n",
        "\n",
        "if __name__ == \"__main__\":\n",
        "    main()\n"
      ],
      "metadata": {
        "colab": {
          "base_uri": "https://localhost:8080/"
        },
        "id": "xpjr-YxqGgVh",
        "outputId": "29e19980-d668-42db-e9b1-63877911045b"
      },
      "execution_count": 2,
      "outputs": [
        {
          "output_type": "stream",
          "name": "stdout",
          "text": [
            "\n",
            "=== Student Attendance ===\n",
            "1: Add New Student.\n",
            "2: Mark Attendance.\n",
            "3: View Attendance\n",
            "4: Exit\n",
            "\n",
            "Enter Your Choice (1-4): 1\n",
            "Enter Student ID: Ali\n",
            "Enter Student Name: 123\n",
            "Student Added Successfully\n",
            "\n",
            "=== Student Attendance ===\n",
            "1: Add New Student.\n",
            "2: Mark Attendance.\n",
            "3: View Attendance\n",
            "4: Exit\n",
            "\n",
            "Enter Your Choice (1-4): 2\n",
            "Enter Student ID: 123\n",
            "Student Not Found\n",
            "\n",
            "=== Student Attendance ===\n",
            "1: Add New Student.\n",
            "2: Mark Attendance.\n",
            "3: View Attendance\n",
            "4: Exit\n",
            "\n",
            "Enter Your Choice (1-4): 3\n",
            "Enter date (DD-MM-YYYY) or press Enter for Today: \n",
            "No Attendance Record Found for this date.\n",
            "\n",
            "=== Student Attendance ===\n",
            "1: Add New Student.\n",
            "2: Mark Attendance.\n",
            "3: View Attendance\n",
            "4: Exit\n",
            "\n",
            "Enter Your Choice (1-4): 4\n",
            "Thank you for using Attendance!\n"
          ]
        }
      ]
    }
  ]
}